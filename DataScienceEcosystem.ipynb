{
 "cells": [
  {
   "cell_type": "markdown",
   "id": "0df80de1-d901-437e-a55b-eebf0b101548",
   "metadata": {
    "tags": []
   },
   "source": [
    "# Data Science Tools and Ecosystem"
   ]
  },
  {
   "cell_type": "markdown",
   "id": "cb6f3ed9-2a35-4711-8b0a-69de57de3045",
   "metadata": {},
   "source": [
    "In this notebook, Data Science Tools and Ecosystem are summarized."
   ]
  },
  {
   "cell_type": "markdown",
   "id": "19b31bc3-f6da-43f4-b032-c87b56e9b341",
   "metadata": {
    "tags": []
   },
   "source": [
    "**Objetivos:**\n",
    "\n",
    "- Listar lenguajes populares para Ciencia de Datos\n",
    "- Describir herramientas y ecosistemas para Ciencia de Datos\n",
    "- Crear y trabajar con Notebooks en JupyterLab\n",
    "- Evaluar expresiones aritméticas en Python\n",
    "- Convertir unidades de tiempo (por ejemplo, minutos a horas)"
   ]
  },
  {
   "cell_type": "markdown",
   "id": "2b0bf291-0457-4a9a-b801-8bbaeb232d62",
   "metadata": {},
   "source": [
    "Some of the popular languages that Data Scientists use are:\n",
    "    \n",
    "    1. Python\n",
    "    2. R\n",
    "    3. SQL"
   ]
  },
  {
   "cell_type": "markdown",
   "id": "7c13d6d6-f196-41c2-9351-da2d57617f4c",
   "metadata": {},
   "source": [
    "Some of the commonly used libraries used by Data Scientists include:\n",
    "    \n",
    "    - NumPy\n",
    "    - Pandas\n",
    "    - Matplotlib\n",
    "    - Scikit-learn"
   ]
  },
  {
   "cell_type": "markdown",
   "id": "6c82f2ec-3cb7-45eb-a590-9afe68e65d3e",
   "metadata": {},
   "source": [
    "| Data Science Tools       |\n",
    "|--------------------------|\n",
    "| Jupyter Notebook         |\n",
    "| RStudio                  |\n",
    "| Apache Zeppelin          |"
   ]
  },
  {
   "cell_type": "markdown",
   "id": "73d3159f-2c7a-41c2-b84c-d2be67f6f02f",
   "metadata": {},
   "source": [
    "### Below are a few examples of evaluating arithmetic expressions in Python."
   ]
  },
  {
   "cell_type": "code",
   "execution_count": 1,
   "id": "a325b9f6-e1fe-4c95-a0a9-c1c1962dcad6",
   "metadata": {
    "tags": []
   },
   "outputs": [
    {
     "name": "stdout",
     "output_type": "stream",
     "text": [
      "17\n"
     ]
    }
   ],
   "source": [
    "## Esta es una expresión aritmética simple para multiplicar y luego sumar enteros\n",
    "resultado = (3*4) + 5\n",
    "print(resultado)"
   ]
  },
  {
   "cell_type": "code",
   "execution_count": 3,
   "id": "e54cd2d7-8c42-4346-b3ed-68f81c9cfc3d",
   "metadata": {
    "tags": []
   },
   "outputs": [
    {
     "name": "stdout",
     "output_type": "stream",
     "text": [
      "3.3333333333333335\n"
     ]
    }
   ],
   "source": [
    "## Esta operación convertirá 200 minutos en horas dividiendo por 60\n",
    "horas = 200 / 60\n",
    "print(horas)"
   ]
  },
  {
   "cell_type": "markdown",
   "id": "432987b6-9930-4c9b-9ab7-a18ddbb185ce",
   "metadata": {},
   "source": [
    "## Author\n",
    "\n",
    "Jesús A. Alonso Velasco"
   ]
  },
  {
   "cell_type": "code",
   "execution_count": null,
   "id": "00b804e2-bce5-4d29-935d-86d28bf0c743",
   "metadata": {},
   "outputs": [],
   "source": []
  }
 ],
 "metadata": {
  "kernelspec": {
   "display_name": "Python",
   "language": "python",
   "name": "conda-env-python-py"
  },
  "language_info": {
   "codemirror_mode": {
    "name": "ipython",
    "version": 3
   },
   "file_extension": ".py",
   "mimetype": "text/x-python",
   "name": "python",
   "nbconvert_exporter": "python",
   "pygments_lexer": "ipython3",
   "version": "3.7.12"
  }
 },
 "nbformat": 4,
 "nbformat_minor": 5
}
